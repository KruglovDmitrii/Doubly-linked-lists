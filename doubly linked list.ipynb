{
 "cells": [
  {
   "cell_type": "markdown",
   "metadata": {},
   "source": [
    "### Define a doubly linked list"
   ]
  },
  {
   "cell_type": "code",
   "execution_count": 1,
   "metadata": {},
   "outputs": [],
   "source": [
    "class Node:                     # define node class\n",
    "    def __init__(self, data):   \n",
    "        self.data = data        # a node contains data and links to the\n",
    "        self.next = None        # next and the previous nodes in the LinkedList\n",
    "        self.prev = None\n",
    "    def __str__(self):      \n",
    "        return str(self.data)   # tell <print()> function to print Node.data if called\n",
    "\n",
    "    \n",
    "class LinkedList:                            # define LinkedList class\n",
    "    def __init__(self, data):                \n",
    "        if isinstance(data,list):            # check if you are passing\n",
    "            self.head = Node(data[0])        # data in a list\n",
    "            self.tail = None\n",
    "            for item in range(1,len(data)):\n",
    "                self.addToTail(data[item])\n",
    "        else:\n",
    "            self.head = Node(data)\n",
    "            self.tail = None\n",
    "            \n",
    "    def addToTail(self, data):          # add node to the end of the LinkedList,\n",
    "        if (self.tail == None):         # if there's only a head node, \n",
    "            self.tail = Node(data)      # add the node next to the head\n",
    "            self.head.next = self.tail\n",
    "            self.tail.prev = self.head\n",
    "        else:\n",
    "            new_node = Node(data)               \n",
    "            self.tail.next = new_node        # insert a node after tail\n",
    "            self.tail.next.prev = self.tail  # save initial tail as a node to the left of the added node\n",
    "            self.tail = new_node             # set the new node to be the tail\n",
    "            \n",
    "    def addToHead(self,data):       # add node in the beginning\n",
    "        new_node = Node(data)\n",
    "        self.head.prev = new_node   # insert a new node before head and make a link\n",
    "        new_node.next = self.head   # the old head is now 'next' to the new node\n",
    "        self.head = new_node        # passed node is the new head\n",
    "        \n",
    "          \n",
    "    def addNode(self, data, position):      # add node to the specified position\n",
    "        if (position == 0):\n",
    "            self.addToHead(data)\n",
    "        else:\n",
    "            new_node = Node(data)\n",
    "            curr_node = self.head\n",
    "            for i in range(position-1):      # find the specified position, we stop right before it\n",
    "                curr_node=curr_node.next\n",
    "            if (curr_node.next == None):     # check if this is a tail node\n",
    "                self.addToTail(data)\n",
    "            else:                                           # general case\n",
    "                curr_node.next.prev = new_node              # link the node next to inserted one to the new node\n",
    "                curr_node.next.prev.next = curr_node.next   # link the inserted node to the node next to it\n",
    "                curr_node.next = curr_node.next.prev        # link the current node to the inserted one\n",
    "                curr_node.next.prev = curr_node             # link the inserted node to the node  \n",
    "                                                            #                        next to the current node\n",
    "    def deleteNode(self, position):             # delete node at specified position\n",
    "        if (position == 0):                     # check if this is a head node\n",
    "            self.head = self.head.next\n",
    "            del self.head.prev\n",
    "            self.head.prev = None\n",
    "        else:\n",
    "            curr_node = self.head\n",
    "            for i in range(position-1):         # find the specified position, we stop right before it\n",
    "                curr_node=curr_node.next\n",
    "            if (curr_node.next.next == None):   # check if this is a tail node\n",
    "                self.tail = self.tail.prev\n",
    "                del self.tail.next\n",
    "                self.tail.next = None\n",
    "            else:\n",
    "                curr_node.next = curr_node.next.next  # link the current node to the node after the deleted node\n",
    "                del curr_node.next.prev\n",
    "                curr_node.next.prev = curr_node       # link that node back to the current node\n",
    "            \n",
    "    def replaceNode(self, data, position):   # replace a node at a specified position wiht a new one\n",
    "        self.deleteNode(position)\n",
    "        self.addNode(data, position)\n",
    "    \n",
    "    def dataFromNode(self, position):        # return data from the node at specified position\n",
    "        curr_node = self.head\n",
    "        for i in range(position):\n",
    "            curr_node = curr_node.next\n",
    "        return curr_node.data\n",
    "        \n",
    "    def swapNodes(self, position1, position2):     # swap two nodes\n",
    "        tempdata = self.dataFromNode(position1)\n",
    "        self.replaceNode(self.dataFromNode(position2),position1)\n",
    "        self.replaceNode(tempdata,position2)\n",
    "        \n",
    "    def delete(self, data):       # delete nodes that contain specified data\n",
    "        curr_node = self.head\n",
    "        position = 0\n",
    "        while(curr_node != None):\n",
    "            if (curr_node.data == data):\n",
    "                self.deleteNode(position)\n",
    "            curr_node = curr_node.next\n",
    "            position +=1\n",
    "            \n",
    "    def printList(self, separation=None):   # display the LinkedList\n",
    "        node = self.head\n",
    "        if (separation == \"newline\"):\n",
    "            while(node.next!=None):\n",
    "                print('{}'.format(node), end = '\\n')\n",
    "                node = node.next\n",
    "            print('{}'.format(node))\n",
    "        elif (separation == None):\n",
    "            while(node.next!=None):\n",
    "                print('{}'.format(node), end = ' | ')\n",
    "                node = node.next\n",
    "            print('{}'.format(node))"
   ]
  },
  {
   "cell_type": "markdown",
   "metadata": {},
   "source": [
    "### Examples of use"
   ]
  },
  {
   "cell_type": "code",
   "execution_count": 2,
   "metadata": {},
   "outputs": [
    {
     "name": "stdout",
     "output_type": "stream",
     "text": [
      "Tuesday | Weneday | Thursday | Saturday\n"
     ]
    }
   ],
   "source": [
    "week = LinkedList(\"Tuesday\") # Initialize a LinkedList with one word \"Tuesday\"\n",
    "week.addToTail(\"Weneday\")    # Add words to the end and display\n",
    "week.addToTail(\"Thursday\")\n",
    "week.addToTail(\"Saturday\")\n",
    "week.printList()"
   ]
  },
  {
   "cell_type": "code",
   "execution_count": 3,
   "metadata": {},
   "outputs": [
    {
     "name": "stdout",
     "output_type": "stream",
     "text": [
      "Monday | Tuesday | Weneday | Thursday | Friday | Saturday | Sunday | Sunday\n"
     ]
    }
   ],
   "source": [
    "week.addNode(\"Friday\",3) # Fill the gaps in the week LinkedList\n",
    "week.addNode(\"Sunday\",5)\n",
    "week.addNode(\"Sunday\",5)\n",
    "week.addNode(\"Monday\",0)\n",
    "week.printList()"
   ]
  },
  {
   "cell_type": "code",
   "execution_count": 4,
   "metadata": {},
   "outputs": [
    {
     "name": "stdout",
     "output_type": "stream",
     "text": [
      "Monday | Tuesday | Weneday | Thursday | Friday | Saturday | Sunday\n"
     ]
    }
   ],
   "source": [
    "week.deleteNode(6) # Delete repetition\n",
    "week.printList()"
   ]
  },
  {
   "cell_type": "code",
   "execution_count": 5,
   "metadata": {},
   "outputs": [
    {
     "name": "stdout",
     "output_type": "stream",
     "text": [
      "Monday | Tuesday | Wednesday | Thursday | Friday | Saturday | Sunday\n"
     ]
    }
   ],
   "source": [
    "week.replaceNode(\"Wednesday\",2) # Fix the typo\n",
    "week.printList()"
   ]
  },
  {
   "cell_type": "code",
   "execution_count": 6,
   "metadata": {},
   "outputs": [
    {
     "name": "stdout",
     "output_type": "stream",
     "text": [
      "Monday | Tuesday | Wednesday | Thursday | Friday\n"
     ]
    }
   ],
   "source": [
    "week.delete(\"Sunday\") # Get rid of the weekends\n",
    "week.delete(\"Saturday\")\n",
    "week.printList()"
   ]
  },
  {
   "cell_type": "code",
   "execution_count": 7,
   "metadata": {},
   "outputs": [
    {
     "name": "stdout",
     "output_type": "stream",
     "text": [
      "Jon | Bob | Ben\n"
     ]
    }
   ],
   "source": [
    "names = LinkedList([\"Jon\", \"Bob\", \"Ben\"]) # Initialize a List with a list\n",
    "names.printList()"
   ]
  },
  {
   "cell_type": "code",
   "execution_count": 8,
   "metadata": {},
   "outputs": [
    {
     "name": "stdout",
     "output_type": "stream",
     "text": [
      "Jon | Ben | Bob\n"
     ]
    }
   ],
   "source": [
    "names.swapNodes(1,2) # Swap names\n",
    "names.printList()"
   ]
  },
  {
   "cell_type": "code",
   "execution_count": 9,
   "metadata": {},
   "outputs": [
    {
     "name": "stdout",
     "output_type": "stream",
     "text": [
      "{'Page name: ': 'Google', 'Page address: ': 'https://www.google.com/', 'Time: ': 'Fri Mar 29 2019 3.49:17 -0400 GMT'}\n",
      "{'Page name: ': 'Stack Overflow - Google Search', 'Page address: ': 'https://www.google.com/search?ei=emeeXJbrA8aVr7wP-9KHkAQ&q=Stack+Overflow&oq=Stack+Overflow&gs_l=psy-ab.3..35i39j0j0i20i263j0i131j0j0i131j0l4.62044.64088..65189...0.0..0.87.935.14......0....1..gws-wiz.......0i71j0i67.YoXDmkoJjQk', 'Time: ': 'Fri Mar 29 2019 3.49:20 -0400 GMT'}\n",
      "{'Page name: ': \"Newest 'python' Questions - Stack Overflow\", 'Page address: ': 'https://stackoverflow.com/questions/tagged/python', 'Time: ': 'Fri Mar 29 2019 3.49:33 -0400 GMT'}\n"
     ]
    }
   ],
   "source": [
    "# An example of using LinkedList in internet browser, where you link the pages so that you can travel between them\n",
    "# back and forth, saving the information about the pages in history\n",
    "\n",
    "browser_history = LinkedList({\"Page name: \"    :  \"Google\",\n",
    "                              \"Page address: \" :  \"https://www.google.com/\",\n",
    "                              \"Time: \"         :  \"Fri Mar 29 2019 3.49:17 -0400 GMT\"\n",
    "                                  })\n",
    "\n",
    "browser_history.addToTail({\"Page name: \"       :  \"Stack Overflow - Google Search\",\n",
    "                           \"Page address: \"    :  \"https://www.google.com/search?ei=emeeXJbrA8aVr7wP\" + \n",
    "                                                  \"-9KHkAQ&q=Stack+Overflow&oq=Stack+Overflow&gs_l=p\" +\n",
    "                                                  \"sy-ab.3..35i39j0j0i20i263j0i131j0j0i131j0l4.62044\" +\n",
    "                                                  \".64088..65189...0.0..0.87.935.14......0....1..gws\" +\n",
    "                                                  \"-wiz.......0i71j0i67.YoXDmkoJjQk\",\n",
    "                           \"Time: \"             :  \"Fri Mar 29 2019 3.49:20 -0400 GMT\"\n",
    "                                  })\n",
    "\n",
    "browser_history.addToTail({\"Page name: \"       :  \"Newest 'python' Questions - Stack Overflow\",\n",
    "                           \"Page address: \"    :  \"https://stackoverflow.com/questions/tagged/python\",\n",
    "                           \"Time: \"            :  \"Fri Mar 29 2019 3.49:33 -0400 GMT\"\n",
    "                                  })\n",
    "\n",
    "browser_history.printList(separation=\"newline\")"
   ]
  },
  {
   "cell_type": "code",
   "execution_count": null,
   "metadata": {},
   "outputs": [],
   "source": []
  }
 ],
 "metadata": {
  "kernelspec": {
   "display_name": "Python 3.7 (tensorflow)",
   "language": "python",
   "name": "tensorflow_env"
  },
  "language_info": {
   "codemirror_mode": {
    "name": "ipython",
    "version": 3
   },
   "file_extension": ".py",
   "mimetype": "text/x-python",
   "name": "python",
   "nbconvert_exporter": "python",
   "pygments_lexer": "ipython3",
   "version": "3.7.2"
  }
 },
 "nbformat": 4,
 "nbformat_minor": 2
}
